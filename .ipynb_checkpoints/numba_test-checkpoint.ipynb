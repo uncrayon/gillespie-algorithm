{
 "cells": [
  {
   "cell_type": "code",
   "execution_count": 1,
   "metadata": {},
   "outputs": [],
   "source": [
    "from numba import jit, njit, vectorize,config\n",
    "import cProfile"
   ]
  },
  {
   "cell_type": "code",
   "execution_count": 2,
   "metadata": {},
   "outputs": [],
   "source": [
    "import matplotlib.pyplot as plt\n",
    "import seaborn as sbn\n",
    "import pandas as pd\n",
    "import numpy as np\n",
    "import random"
   ]
  },
  {
   "cell_type": "code",
   "execution_count": 3,
   "metadata": {},
   "outputs": [],
   "source": [
    "config.THREADING_LAYER = 'threadsafe'\n",
    "sbn.set()"
   ]
  },
  {
   "cell_type": "markdown",
   "metadata": {},
   "source": [
    "# A numba test for SSA"
   ]
  },
  {
   "cell_type": "markdown",
   "metadata": {},
   "source": [
    "This notebook is an attemp to accelerate the algorithm presented previously in [Epoch_1](./Epoch_1.ipynb) thru numba decorators.   \n",
    "The exploratory test will be deffenitevely large so you can consult a final version and analysis in INSET FINAL NUMBA to see results."
   ]
  },
  {
   "cell_type": "markdown",
   "metadata": {},
   "source": [
    "We will work at first with so called _Lotka Reaction_ system:\n",
    "$$\n",
    "\\begin{eqnarray}\n",
    "&\\bar{X} + Y_{1}& \\xrightarrow{\\;\\; C_{1} \\;\\; } 2Y_{1} \\\\\n",
    "&Y_{1} + Y_{2}& \\xrightarrow{\\;\\; C_{2} \\;\\; } 2Y_{2} \\\\\n",
    "&Y_{2}& \\xrightarrow{\\;\\; C_{3} \\;\\; } Z\n",
    "\\end{eqnarray}\n",
    "$$\n",
    "\n",
    "Where $\\bar{X}$ denotes that the molecular population  is constant over time."
   ]
  },
  {
   "cell_type": "markdown",
   "metadata": {},
   "source": [
    "The set of propensity equations is:\n",
    "$$\n",
    "\\begin{eqnarray}\n",
    "a_{1}(\\mathbf{Y}) &=& c_1 [\\bar{X}][Y_{1}] = k[Y_{1}]\\\\\n",
    "a_{2}(\\mathbf{Y}) &=& c_2 [Y_{2}][Y_{1}] \\\\\n",
    "a_{3}(\\mathbf{Y}) &=& c_3 [Y_{2}]\n",
    "\\end{eqnarray}\n",
    "$$\n",
    "And the asociated state-change vectors are:\n",
    "$$\n",
    "\\begin{eqnarray}\n",
    "\\nu_{1} &=& [1,0] \\\\\n",
    "\\nu_{2} &=& [-1,-1] \\\\\n",
    "\\nu_{3} &=& [0,-1]\n",
    "\\end{eqnarray}\n",
    "$$"
   ]
  },
  {
   "cell_type": "markdown",
   "metadata": {},
   "source": [
    "A more clearner version of SSA before develped:  "
   ]
  },
  {
   "cell_type": "code",
   "execution_count": 141,
   "metadata": {},
   "outputs": [],
   "source": [
    "@vectorize()\n",
    "def expo(s): return np.random.exponential(scale=1/s)"
   ]
  },
  {
   "cell_type": "code",
   "execution_count": 147,
   "metadata": {},
   "outputs": [],
   "source": [
    "def SSA(x,t,a,v,t_max,seed = 42):\n",
    "    \"\"\"\n",
    "    A toy version of the SSA described in the notebook\n",
    "    \n",
    "    Params\n",
    "    ---------\n",
    "    x : array_like\n",
    "        A vector of states vectors, if len(x)>1 then is going to be used x[-1]\n",
    "    t : array_like\n",
    "        A vecttor of timesteps, t0 = t[-1]\n",
    "    a : func\n",
    "        The vectorial function form of all propensity functions\n",
    "    v : array_like\n",
    "        The state change vector or matrix\n",
    "    t_max : float\n",
    "        The condition time to stop\n",
    "    seed : int\n",
    "        Seed to secure reproducibility\n",
    "        \n",
    "    Returns\n",
    "    ----------\n",
    "    x : array_like\n",
    "        x.shape = (m,n) where m is number if reactions and n the number of\n",
    "        molecular species\n",
    "        The whole system vector-population after a R_{i} in a time t_{i}\n",
    "    t : array_like\n",
    "        The time steps at which each reaction occurs\n",
    "    \"\"\"\n",
    "    if seed!=None:\n",
    "        np.random.seed(seed)\n",
    "    idx = np.arange(len(v))\n",
    "    while True:\n",
    "        x0,t0 = x[-1],t[-1]\n",
    "        \n",
    "        #if np.sum(a(x0),axis=0).dtype == 'int64':\n",
    "        #    a_vector = np.asarray([np.sum(a(x0),axis=0)])\n",
    "        #else:\n",
    "        a_vector = a(x0)\n",
    "\n",
    "        a_0 = np.sum(a_vector)\n",
    "        if a_0 == 0: #first stop condition\n",
    "            break\n",
    "            \n",
    "        # Tau dist prob of generating function is a_{0}*exp(-tau*a_{0}) therefore the following is more stable than the later tau-generator\n",
    "        #tau = np.random.exponential(scale=1/a_0)\n",
    "        tau = expo(a_0)\n",
    "        # the dist prob of generating function of j is a_{j}/a_{0}, a point probability so the following is more stable than the later j-generator\n",
    "        j = np.random.choice(idx,p=a_vector/a_0)\n",
    "                \n",
    "        t = np.hstack((t,t0+tau))\n",
    "        x = np.vstack((x,x0+v[j]))\n",
    "        if t0+tau>=t_max:\n",
    "            break\n",
    "        \n",
    "    return x,t"
   ]
  },
  {
   "cell_type": "markdown",
   "metadata": {},
   "source": [
    "To reproduce results we're going to use $k=c_{1}[\\bar{X}] = 10$, $c_{2}=0.01$ and $c_{3}=10$ with initial condition $\\mathbf{Y_{0}}=[1000,1000]$"
   ]
  },
  {
   "cell_type": "code",
   "execution_count": 104,
   "metadata": {},
   "outputs": [],
   "source": [
    "def R(Y,k,c2,c3):\n",
    "    return np.asarray([k*Y[0],c2*Y[0]*Y[1], c3*Y[1]])"
   ]
  },
  {
   "cell_type": "code",
   "execution_count": 105,
   "metadata": {},
   "outputs": [],
   "source": [
    "a = lambda y : R(y,k=10,c2=0.01,c3=10)\n",
    "v = np.asarray([\n",
    "    [1,0],\n",
    "    [-1,1],\n",
    "    [0,-1]\n",
    "])"
   ]
  },
  {
   "cell_type": "code",
   "execution_count": 128,
   "metadata": {},
   "outputs": [
    {
     "name": "stdout",
     "output_type": "stream",
     "text": [
      "3.56 s ± 0 ns per loop (mean ± std. dev. of 1 run, 1 loop each)\n"
     ]
    }
   ],
   "source": [
    "%%timeit -r 1\n",
    "x,t = SSA(x=np.asarray([[1000,1000]]),t=[0],a=a,v=v,t_max=1)"
   ]
  },
  {
   "cell_type": "code",
   "execution_count": 126,
   "metadata": {},
   "outputs": [
    {
     "name": "stdout",
     "output_type": "stream",
     "text": [
      "2.24 s ± 0 ns per loop (mean ± std. dev. of 1 run, 1 loop each)\n"
     ]
    }
   ],
   "source": [
    "%%timeit -r 1\n",
    "x,t = SSA(x=np.asarray([[1000,1000]]),t=[0],a=a,v=v,t_max=1)"
   ]
  },
  {
   "cell_type": "markdown",
   "metadata": {},
   "source": [
    "Now, lets analize where the program is taking more time to run"
   ]
  },
  {
   "cell_type": "code",
   "execution_count": 146,
   "metadata": {},
   "outputs": [
    {
     "name": "stdout",
     "output_type": "stream",
     "text": [
      "         20392529 function calls (19192969 primitive calls) in 146.884 seconds\n",
      "\n",
      "   Ordered by: standard name\n",
      "\n",
      "   ncalls  tottime  percall  cumtime  percall filename:lineno(function)\n",
      "   299890    0.255    0.000    2.995    0.000 <__array_function__ internals>:2(atleast_1d)\n",
      "   299890    0.255    0.000    1.934    0.000 <__array_function__ internals>:2(atleast_2d)\n",
      "   599780    0.507    0.000  108.620    0.000 <__array_function__ internals>:2(concatenate)\n",
      "   299890    0.298    0.000   41.070    0.000 <__array_function__ internals>:2(hstack)\n",
      "   299890    0.298    0.000    4.223    0.000 <__array_function__ internals>:2(sum)\n",
      "   299890    0.247    0.000   76.314    0.000 <__array_function__ internals>:2(vstack)\n",
      "   299890    3.025    0.000    4.441    0.000 <ipython-input-104-474dae19171b>:1(R)\n",
      "   299890    0.282    0.000    4.723    0.000 <ipython-input-105-9e47355c233e>:1(<lambda>)\n",
      "        1    5.259    5.259  146.883  146.883 <ipython-input-145-9ef74a8d31b8>:1(SSA)\n",
      "        1    0.001    0.001  146.884  146.884 <string>:1(<module>)\n",
      "   299891    0.145    0.000    1.416    0.000 _asarray.py:16(asarray)\n",
      "  1199560    0.372    0.000    1.083    0.000 _asarray.py:88(asanyarray)\n",
      "   299890    0.079    0.000    0.079    0.000 fromnumeric.py:2087(_sum_dispatcher)\n",
      "   299890    0.638    0.000    3.604    0.000 fromnumeric.py:2092(sum)\n",
      "   299890    0.865    0.000    2.803    0.000 fromnumeric.py:73(_wrapreduction)\n",
      "   299890    0.238    0.000    0.238    0.000 fromnumeric.py:74(<dictcomp>)\n",
      "   599780    0.699    0.000    0.869    0.000 getlimits.py:365(__new__)\n",
      "   599780    0.112    0.000    0.112    0.000 multiarray.py:145(concatenate)\n",
      "   599780    0.561    0.000    0.820    0.000 numerictypes.py:293(issubclass_)\n",
      "   299890    0.528    0.000    1.383    0.000 numerictypes.py:365(issubdtype)\n",
      "   599780    0.289    0.000    0.545    0.000 shape_base.py:209(_arrays_for_stack_dispatcher)\n",
      "   299890    0.053    0.000    0.053    0.000 shape_base.py:21(_atleast_1d_dispatcher)\n",
      "   599780    0.321    0.000    0.866    0.000 shape_base.py:220(_vhstack_dispatcher)\n",
      "   299890    0.547    0.000   75.397    0.000 shape_base.py:224(vstack)\n",
      "   299890    0.863    0.000    2.344    0.000 shape_base.py:25(atleast_1d)\n",
      "   299890    0.722    0.000   39.512    0.000 shape_base.py:286(hstack)\n",
      "   299890    0.053    0.000    0.053    0.000 shape_base.py:79(_atleast_2d_dispatcher)\n",
      "   299890    0.975    0.000    1.470    0.000 shape_base.py:83(atleast_2d)\n",
      "        1    0.000    0.000  146.884  146.884 {built-in method builtins.exec}\n",
      "   599780    0.256    0.000    0.256    0.000 {built-in method builtins.hasattr}\n",
      "   899670    0.254    0.000    0.254    0.000 {built-in method builtins.isinstance}\n",
      "   899670    0.295    0.000    0.295    0.000 {built-in method builtins.issubclass}\n",
      "   599781    0.114    0.000    0.114    0.000 {built-in method builtins.len}\n",
      "        1    0.000    0.000    0.000    0.000 {built-in method numpy.arange}\n",
      "  1499451    1.983    0.000    1.983    0.000 {built-in method numpy.array}\n",
      "2099230/899670  109.805    0.000  119.819    0.000 {built-in method numpy.core._multiarray_umath.implement_array_function}\n",
      "  1199560    0.180    0.000    0.180    0.000 {method 'append' of 'list' objects}\n",
      "   299890   10.778    0.000   13.030    0.000 {method 'choice' of 'numpy.random.mtrand.RandomState' objects}\n",
      "        1    0.000    0.000    0.000    0.000 {method 'disable' of '_lsprof.Profiler' objects}\n",
      "   299890    2.264    0.000    2.264    0.000 {method 'exponential' of 'numpy.random.mtrand.RandomState' objects}\n",
      "   599780    0.170    0.000    0.170    0.000 {method 'get' of 'dict' objects}\n",
      "   299890    0.071    0.000    0.071    0.000 {method 'items' of 'dict' objects}\n",
      "   299890    1.629    0.000    1.629    0.000 {method 'reduce' of 'numpy.ufunc' objects}\n",
      "   299890    0.601    0.000    0.601    0.000 {method 'reshape' of 'numpy.ndarray' objects}\n",
      "        1    0.000    0.000    0.000    0.000 {method 'seed' of 'numpy.random.mtrand.RandomState' objects}\n",
      "\n",
      "\n"
     ]
    }
   ],
   "source": [
    "cProfile.run('SSA(x=np.asarray([[1000,1000]]),t=[0],a=a,v=v,t_max=10)')"
   ]
  },
  {
   "cell_type": "code",
   "execution_count": 148,
   "metadata": {},
   "outputs": [
    {
     "name": "stdout",
     "output_type": "stream",
     "text": [
      "         20061752 function calls (18864036 primitive calls) in 127.966 seconds\n",
      "\n",
      "   Ordered by: standard name\n",
      "\n",
      "   ncalls  tottime  percall  cumtime  percall filename:lineno(function)\n",
      "   299429    0.229    0.000    2.711    0.000 <__array_function__ internals>:2(atleast_1d)\n",
      "   299429    0.221    0.000    1.743    0.000 <__array_function__ internals>:2(atleast_2d)\n",
      "   598858    0.458    0.000   95.406    0.000 <__array_function__ internals>:2(concatenate)\n",
      "   299429    0.258    0.000   35.827    0.000 <__array_function__ internals>:2(hstack)\n",
      "   299429    0.272    0.000    3.682    0.000 <__array_function__ internals>:2(sum)\n",
      "   299429    0.221    0.000   67.466    0.000 <__array_function__ internals>:2(vstack)\n",
      "   299429    2.670    0.000    3.895    0.000 <ipython-input-104-474dae19171b>:1(R)\n",
      "   299429    0.249    0.000    4.145    0.000 <ipython-input-105-9e47355c233e>:1(<lambda>)\n",
      "        1    5.117    5.117  127.965  127.965 <ipython-input-147-3384a2cf93b0>:1(SSA)\n",
      "        1    0.001    0.001  127.966  127.966 <string>:1(<module>)\n",
      "   299430    0.128    0.000    1.225    0.000 _asarray.py:16(asarray)\n",
      "  1197716    0.351    0.000    0.984    0.000 _asarray.py:88(asanyarray)\n",
      "   299429    0.071    0.000    0.071    0.000 fromnumeric.py:2087(_sum_dispatcher)\n",
      "   299429    0.554    0.000    3.116    0.000 fromnumeric.py:2092(sum)\n",
      "   299429    0.724    0.000    2.418    0.000 fromnumeric.py:73(_wrapreduction)\n",
      "   299429    0.215    0.000    0.215    0.000 fromnumeric.py:74(<dictcomp>)\n",
      "   598858    0.591    0.000    0.746    0.000 getlimits.py:365(__new__)\n",
      "   598858    0.103    0.000    0.103    0.000 multiarray.py:145(concatenate)\n",
      "   598858    0.487    0.000    0.708    0.000 numerictypes.py:293(issubclass_)\n",
      "   299429    0.472    0.000    1.213    0.000 numerictypes.py:365(issubdtype)\n",
      "   598858    0.268    0.000    0.487    0.000 shape_base.py:209(_arrays_for_stack_dispatcher)\n",
      "   299429    0.050    0.000    0.050    0.000 shape_base.py:21(_atleast_1d_dispatcher)\n",
      "   598858    0.289    0.000    0.776    0.000 shape_base.py:220(_vhstack_dispatcher)\n",
      "   299429    0.479    0.000   66.640    0.000 shape_base.py:224(vstack)\n",
      "   299429    0.791    0.000    2.120    0.000 shape_base.py:25(atleast_1d)\n",
      "   299429    0.650    0.000   34.432    0.000 shape_base.py:286(hstack)\n",
      "   299429    0.051    0.000    0.051    0.000 shape_base.py:79(_atleast_2d_dispatcher)\n",
      "   299429    0.874    0.000    1.320    0.000 shape_base.py:83(atleast_2d)\n",
      "        1    0.000    0.000  127.966  127.966 {built-in method builtins.exec}\n",
      "   598858    0.219    0.000    0.219    0.000 {built-in method builtins.hasattr}\n",
      "   898287    0.226    0.000    0.226    0.000 {built-in method builtins.isinstance}\n",
      "   898287    0.254    0.000    0.254    0.000 {built-in method builtins.issubclass}\n",
      "   598859    0.103    0.000    0.103    0.000 {built-in method builtins.len}\n",
      "        1    0.000    0.000    0.000    0.000 {built-in method numpy.arange}\n",
      "  1497146    1.729    0.000    1.729    0.000 {built-in method numpy.array}\n",
      "2096003/898287   96.495    0.000  105.376    0.000 {built-in method numpy.core._multiarray_umath.implement_array_function}\n",
      "  1197716    0.164    0.000    0.164    0.000 {method 'append' of 'list' objects}\n",
      "   299429    9.770    0.000   11.728    0.000 {method 'choice' of 'numpy.random.mtrand.RandomState' objects}\n",
      "        1    0.000    0.000    0.000    0.000 {method 'disable' of '_lsprof.Profiler' objects}\n",
      "   598858    0.155    0.000    0.155    0.000 {method 'get' of 'dict' objects}\n",
      "   299429    0.070    0.000    0.070    0.000 {method 'items' of 'dict' objects}\n",
      "   299429    1.410    0.000    1.410    0.000 {method 'reduce' of 'numpy.ufunc' objects}\n",
      "   299429    0.524    0.000    0.524    0.000 {method 'reshape' of 'numpy.ndarray' objects}\n",
      "        1    0.000    0.000    0.000    0.000 {method 'seed' of 'numpy.random.mtrand.RandomState' objects}\n",
      "\n",
      "\n"
     ]
    }
   ],
   "source": [
    "cProfile.run('SSA(x=np.asarray([[1000,1000]]),t=[0],a=a,v=v,t_max=10)')"
   ]
  },
  {
   "cell_type": "markdown",
   "metadata": {},
   "source": [
    "The most expensive methods are thos numpy releted. "
   ]
  },
  {
   "cell_type": "markdown",
   "metadata": {},
   "source": [
    "The attemp is to create an optimized function but general-purpose. Instead of give an _adhoc_ function, a function able to recive a function of propensity functions. "
   ]
  },
  {
   "cell_type": "code",
   "execution_count": 7,
   "metadata": {},
   "outputs": [],
   "source": [
    "@vectorize(\"float64(float64,float64)\")\n",
    "def add_vectors(a,b):\n",
    "    return a+b"
   ]
  },
  {
   "cell_type": "code",
   "execution_count": 8,
   "metadata": {},
   "outputs": [],
   "source": [
    "j,k = np.random.uniform(high=1000,size=1000),np.random.uniform(high=1000,size=1000)"
   ]
  },
  {
   "cell_type": "code",
   "execution_count": 9,
   "metadata": {},
   "outputs": [
    {
     "name": "stdout",
     "output_type": "stream",
     "text": [
      "1.48 µs ± 55.2 ns per loop (mean ± std. dev. of 7 runs, 100000 loops each)\n"
     ]
    }
   ],
   "source": [
    "%timeit j+k"
   ]
  },
  {
   "cell_type": "code",
   "execution_count": 10,
   "metadata": {},
   "outputs": [
    {
     "name": "stdout",
     "output_type": "stream",
     "text": [
      "1.39 µs ± 13.7 ns per loop (mean ± std. dev. of 7 runs, 1000000 loops each)\n"
     ]
    }
   ],
   "source": [
    "%timeit add_vectors(j,k)"
   ]
  },
  {
   "cell_type": "markdown",
   "metadata": {},
   "source": [
    "Now, lets create an propensity function"
   ]
  },
  {
   "cell_type": "code",
   "execution_count": 11,
   "metadata": {},
   "outputs": [],
   "source": [
    "@njit\n",
    "def a_propensity(Y):\n",
    "    k=10.0\n",
    "    c2=0.01\n",
    "    c3=10.0\n",
    "    return np.array([k*Y[0],c2*Y[0]*Y[1], c3*Y[1]])"
   ]
  },
  {
   "cell_type": "code",
   "execution_count": 12,
   "metadata": {},
   "outputs": [
    {
     "name": "stdout",
     "output_type": "stream",
     "text": [
      "2.67 µs ± 51.4 ns per loop (mean ± std. dev. of 7 runs, 100000 loops each)\n"
     ]
    }
   ],
   "source": [
    "%timeit a([1000,1000])"
   ]
  },
  {
   "cell_type": "code",
   "execution_count": 13,
   "metadata": {},
   "outputs": [
    {
     "name": "stdout",
     "output_type": "stream",
     "text": [
      "3.1 µs ± 56.6 ns per loop (mean ± std. dev. of 7 runs, 100000 loops each)\n"
     ]
    }
   ],
   "source": [
    "%timeit a_propensity(np.asarray([1000.0,1000.0]))"
   ]
  },
  {
   "cell_type": "code",
   "execution_count": 14,
   "metadata": {},
   "outputs": [],
   "source": [
    "@njit\n",
    "def rand_choice_nb(arr, prob):\n",
    "    \"\"\"\n",
    "    :param arr: A 1D numpy array of values to sample from.\n",
    "    :param prob: A 1D numpy array of probabilities for the given samples.\n",
    "    :return: A random sample from the given array with a given probability.\n",
    "    \"\"\"\n",
    "    return arr[np.searchsorted(np.cumsum(prob), np.random.random(), side=\"right\")]"
   ]
  },
  {
   "cell_type": "code",
   "execution_count": 80,
   "metadata": {},
   "outputs": [],
   "source": [
    "@njit()\n",
    "def SSA_jited(x,t,a,v,t_max,seed = 42):\n",
    "    \"\"\"\n",
    "    A toy version of the SSA described in the notebook\n",
    "    \n",
    "    Params\n",
    "    ---------\n",
    "    x : array_like\n",
    "        A vector of states vectors, if len(x)>1 then is going to be used x[-1]\n",
    "    t : array_like\n",
    "        A vecttor of timesteps, t0 = t[-1]\n",
    "    a : afunc\n",
    "        The vectorial function form of all propensity functions\n",
    "    v : array_like\n",
    "        The state change vector or matrix\n",
    "    t_max : float\n",
    "        The condition time to stop\n",
    "    seed : int\n",
    "        Seed to secure reproducibility\n",
    "        \n",
    "    Returns\n",
    "    ----------\n",
    "    x : array_like\n",
    "        x.shape = (m,n) where m is number if reactions and n the number of\n",
    "        molecular species\n",
    "        The whole system vector-population after a R_{i} in a time t_{i}\n",
    "    t : array_like\n",
    "        The time steps at which each reaction occurs\n",
    "    \"\"\"\n",
    "    np.random.seed(seed)\n",
    "\n",
    "    idx = np.arange(len(v))\n",
    "    while True:\n",
    "        x0 = x[len(x)-1]\n",
    "        t0 = t[len(x)-1]\n",
    "        a_vector = a(x0)\n",
    "        a_0 = np.sum(a_vector)\n",
    "        if a_0 == 0: #first stop condition\n",
    "            break\n",
    "            \n",
    "        # Tau dist prob of generating function is a_{0}*exp(-tau*a_{0}) therefore the following is more stable than the later tau-generator\n",
    "        #tau = np.random.exponential(scale=1/a_0)\n",
    "        tau = expo(a_0)\n",
    "        # the dist prob of generating function of j is a_{j}/a_{0}, a point probability so the following is more stable than the later j-generator\n",
    "        j = rand_choice_nb(arr=idx,prob=a_vector/a_0)\n",
    "                \n",
    "        t = np.append(t,t0+tau)\n",
    "        #t = np.append((t,add_vectors(t0,tau).reshape(1)))\n",
    "        dummy = add_vectors(x0,v[j])\n",
    "        x = np.append(x,dummy.reshape(1,dummy.shape[0]),axis=0)\n",
    "        #x = np.vstack((x,add_vectors(x0,v[j])))\n",
    "        #print(t0+tau,a_vector,a_0,j)\n",
    "        if t0+tau>=t_max:\n",
    "            break\n",
    "        \n",
    "    return x,t"
   ]
  },
  {
   "cell_type": "code",
   "execution_count": 81,
   "metadata": {},
   "outputs": [
    {
     "name": "stdout",
     "output_type": "stream",
     "text": [
      "19 s ± 0 ns per loop (mean ± std. dev. of 1 run, 1 loop each)\n"
     ]
    }
   ],
   "source": [
    "%timeit -r 1 SSA_jited(x=np.asarray([np.asarray([1000.0,1000.0])]),t=np.asarray([0.0]),a=a_propensity,v=v,t_max=4)"
   ]
  },
  {
   "cell_type": "code",
   "execution_count": 82,
   "metadata": {},
   "outputs": [
    {
     "name": "stdout",
     "output_type": "stream",
     "text": [
      "13.9 s ± 0 ns per loop (mean ± std. dev. of 1 run, 1 loop each)\n"
     ]
    }
   ],
   "source": [
    "%timeit -r 1 SSA(x=np.asarray([[1000,1000]]),t=[0],a=a,v=v,t_max=4)"
   ]
  },
  {
   "cell_type": "code",
   "execution_count": 149,
   "metadata": {},
   "outputs": [
    {
     "name": "stdout",
     "output_type": "stream",
     "text": [
      "         36 function calls in 152.372 seconds\n",
      "\n",
      "   Ordered by: standard name\n",
      "\n",
      "   ncalls  tottime  percall  cumtime  percall filename:lineno(function)\n",
      "        1  152.371  152.371  152.371  152.371 <ipython-input-80-f21a5649db58>:1(SSA_jited)\n",
      "        1    0.000    0.000  152.372  152.372 <string>:1(<module>)\n",
      "        3    0.000    0.000    0.000    0.000 _asarray.py:16(asarray)\n",
      "        2    0.000    0.000    0.000    0.000 abstract.py:117(__hash__)\n",
      "        2    0.000    0.000    0.000    0.000 abstract.py:48(_intern)\n",
      "        2    0.000    0.000    0.000    0.000 abstract.py:60(__call__)\n",
      "        2    0.000    0.000    0.000    0.000 abstract.py:92(__init__)\n",
      "        2    0.000    0.000    0.000    0.000 dispatcher.py:664(__repr__)\n",
      "        2    0.000    0.000    0.000    0.000 dispatcher.py:776(_numba_type_)\n",
      "        2    0.000    0.000    0.000    0.000 functions.py:466(_store_object)\n",
      "        2    0.000    0.000    0.000    0.000 functions.py:475(key)\n",
      "        2    0.000    0.000    0.000    0.000 functions.py:479(__eq__)\n",
      "        2    0.000    0.000    0.000    0.000 functions.py:485(__hash__)\n",
      "        2    0.000    0.000    0.000    0.000 functions.py:494(__init__)\n",
      "        1    0.000    0.000  152.372  152.372 {built-in method builtins.exec}\n",
      "        2    0.000    0.000    0.000    0.000 {built-in method builtins.hash}\n",
      "        3    0.000    0.000    0.000    0.000 {built-in method numpy.array}\n",
      "        1    0.000    0.000    0.000    0.000 {method 'disable' of '_lsprof.Profiler' objects}\n",
      "        2    0.000    0.000    0.000    0.000 {method 'get' of 'dict' objects}\n",
      "\n",
      "\n"
     ]
    },
    {
     "ename": "KeyboardInterrupt",
     "evalue": "",
     "output_type": "error",
     "traceback": [
      "\u001b[0;31m---------------------------------------------------------------------------\u001b[0m",
      "\u001b[0;31mKeyboardInterrupt\u001b[0m                         Traceback (most recent call last)",
      "\u001b[0;32m<ipython-input-149-6c9fd6e33c86>\u001b[0m in \u001b[0;36m<module>\u001b[0;34m\u001b[0m\n\u001b[0;32m----> 1\u001b[0;31m \u001b[0mcProfile\u001b[0m\u001b[0;34m.\u001b[0m\u001b[0mrun\u001b[0m\u001b[0;34m(\u001b[0m\u001b[0;34m'SSA_jited(x=np.asarray([np.asarray([1000.0,1000.0])]),t=np.asarray([0.0]),a=a_propensity,v=v,t_max=10)'\u001b[0m\u001b[0;34m)\u001b[0m\u001b[0;34m\u001b[0m\u001b[0;34m\u001b[0m\u001b[0m\n\u001b[0m",
      "\u001b[0;32m/usr/lib/python3.7/cProfile.py\u001b[0m in \u001b[0;36mrun\u001b[0;34m(statement, filename, sort)\u001b[0m\n\u001b[1;32m     14\u001b[0m \u001b[0;34m\u001b[0m\u001b[0m\n\u001b[1;32m     15\u001b[0m \u001b[0;32mdef\u001b[0m \u001b[0mrun\u001b[0m\u001b[0;34m(\u001b[0m\u001b[0mstatement\u001b[0m\u001b[0;34m,\u001b[0m \u001b[0mfilename\u001b[0m\u001b[0;34m=\u001b[0m\u001b[0;32mNone\u001b[0m\u001b[0;34m,\u001b[0m \u001b[0msort\u001b[0m\u001b[0;34m=\u001b[0m\u001b[0;34m-\u001b[0m\u001b[0;36m1\u001b[0m\u001b[0;34m)\u001b[0m\u001b[0;34m:\u001b[0m\u001b[0;34m\u001b[0m\u001b[0;34m\u001b[0m\u001b[0m\n\u001b[0;32m---> 16\u001b[0;31m     \u001b[0;32mreturn\u001b[0m \u001b[0m_pyprofile\u001b[0m\u001b[0;34m.\u001b[0m\u001b[0m_Utils\u001b[0m\u001b[0;34m(\u001b[0m\u001b[0mProfile\u001b[0m\u001b[0;34m)\u001b[0m\u001b[0;34m.\u001b[0m\u001b[0mrun\u001b[0m\u001b[0;34m(\u001b[0m\u001b[0mstatement\u001b[0m\u001b[0;34m,\u001b[0m \u001b[0mfilename\u001b[0m\u001b[0;34m,\u001b[0m \u001b[0msort\u001b[0m\u001b[0;34m)\u001b[0m\u001b[0;34m\u001b[0m\u001b[0;34m\u001b[0m\u001b[0m\n\u001b[0m\u001b[1;32m     17\u001b[0m \u001b[0;34m\u001b[0m\u001b[0m\n\u001b[1;32m     18\u001b[0m \u001b[0;32mdef\u001b[0m \u001b[0mrunctx\u001b[0m\u001b[0;34m(\u001b[0m\u001b[0mstatement\u001b[0m\u001b[0;34m,\u001b[0m \u001b[0mglobals\u001b[0m\u001b[0;34m,\u001b[0m \u001b[0mlocals\u001b[0m\u001b[0;34m,\u001b[0m \u001b[0mfilename\u001b[0m\u001b[0;34m=\u001b[0m\u001b[0;32mNone\u001b[0m\u001b[0;34m,\u001b[0m \u001b[0msort\u001b[0m\u001b[0;34m=\u001b[0m\u001b[0;34m-\u001b[0m\u001b[0;36m1\u001b[0m\u001b[0;34m)\u001b[0m\u001b[0;34m:\u001b[0m\u001b[0;34m\u001b[0m\u001b[0;34m\u001b[0m\u001b[0m\n",
      "\u001b[0;32m/usr/lib/python3.7/profile.py\u001b[0m in \u001b[0;36mrun\u001b[0;34m(self, statement, filename, sort)\u001b[0m\n\u001b[1;32m     51\u001b[0m         \u001b[0mprof\u001b[0m \u001b[0;34m=\u001b[0m \u001b[0mself\u001b[0m\u001b[0;34m.\u001b[0m\u001b[0mprofiler\u001b[0m\u001b[0;34m(\u001b[0m\u001b[0;34m)\u001b[0m\u001b[0;34m\u001b[0m\u001b[0;34m\u001b[0m\u001b[0m\n\u001b[1;32m     52\u001b[0m         \u001b[0;32mtry\u001b[0m\u001b[0;34m:\u001b[0m\u001b[0;34m\u001b[0m\u001b[0;34m\u001b[0m\u001b[0m\n\u001b[0;32m---> 53\u001b[0;31m             \u001b[0mprof\u001b[0m\u001b[0;34m.\u001b[0m\u001b[0mrun\u001b[0m\u001b[0;34m(\u001b[0m\u001b[0mstatement\u001b[0m\u001b[0;34m)\u001b[0m\u001b[0;34m\u001b[0m\u001b[0;34m\u001b[0m\u001b[0m\n\u001b[0m\u001b[1;32m     54\u001b[0m         \u001b[0;32mexcept\u001b[0m \u001b[0mSystemExit\u001b[0m\u001b[0;34m:\u001b[0m\u001b[0;34m\u001b[0m\u001b[0;34m\u001b[0m\u001b[0m\n\u001b[1;32m     55\u001b[0m             \u001b[0;32mpass\u001b[0m\u001b[0;34m\u001b[0m\u001b[0;34m\u001b[0m\u001b[0m\n",
      "\u001b[0;32m/usr/lib/python3.7/cProfile.py\u001b[0m in \u001b[0;36mrun\u001b[0;34m(self, cmd)\u001b[0m\n\u001b[1;32m     93\u001b[0m         \u001b[0;32mimport\u001b[0m \u001b[0m__main__\u001b[0m\u001b[0;34m\u001b[0m\u001b[0;34m\u001b[0m\u001b[0m\n\u001b[1;32m     94\u001b[0m         \u001b[0mdict\u001b[0m \u001b[0;34m=\u001b[0m \u001b[0m__main__\u001b[0m\u001b[0;34m.\u001b[0m\u001b[0m__dict__\u001b[0m\u001b[0;34m\u001b[0m\u001b[0;34m\u001b[0m\u001b[0m\n\u001b[0;32m---> 95\u001b[0;31m         \u001b[0;32mreturn\u001b[0m \u001b[0mself\u001b[0m\u001b[0;34m.\u001b[0m\u001b[0mrunctx\u001b[0m\u001b[0;34m(\u001b[0m\u001b[0mcmd\u001b[0m\u001b[0;34m,\u001b[0m \u001b[0mdict\u001b[0m\u001b[0;34m,\u001b[0m \u001b[0mdict\u001b[0m\u001b[0;34m)\u001b[0m\u001b[0;34m\u001b[0m\u001b[0;34m\u001b[0m\u001b[0m\n\u001b[0m\u001b[1;32m     96\u001b[0m \u001b[0;34m\u001b[0m\u001b[0m\n\u001b[1;32m     97\u001b[0m     \u001b[0;32mdef\u001b[0m \u001b[0mrunctx\u001b[0m\u001b[0;34m(\u001b[0m\u001b[0mself\u001b[0m\u001b[0;34m,\u001b[0m \u001b[0mcmd\u001b[0m\u001b[0;34m,\u001b[0m \u001b[0mglobals\u001b[0m\u001b[0;34m,\u001b[0m \u001b[0mlocals\u001b[0m\u001b[0;34m)\u001b[0m\u001b[0;34m:\u001b[0m\u001b[0;34m\u001b[0m\u001b[0;34m\u001b[0m\u001b[0m\n",
      "\u001b[0;32m/usr/lib/python3.7/cProfile.py\u001b[0m in \u001b[0;36mrunctx\u001b[0;34m(self, cmd, globals, locals)\u001b[0m\n\u001b[1;32m     98\u001b[0m         \u001b[0mself\u001b[0m\u001b[0;34m.\u001b[0m\u001b[0menable\u001b[0m\u001b[0;34m(\u001b[0m\u001b[0;34m)\u001b[0m\u001b[0;34m\u001b[0m\u001b[0;34m\u001b[0m\u001b[0m\n\u001b[1;32m     99\u001b[0m         \u001b[0;32mtry\u001b[0m\u001b[0;34m:\u001b[0m\u001b[0;34m\u001b[0m\u001b[0;34m\u001b[0m\u001b[0m\n\u001b[0;32m--> 100\u001b[0;31m             \u001b[0mexec\u001b[0m\u001b[0;34m(\u001b[0m\u001b[0mcmd\u001b[0m\u001b[0;34m,\u001b[0m \u001b[0mglobals\u001b[0m\u001b[0;34m,\u001b[0m \u001b[0mlocals\u001b[0m\u001b[0;34m)\u001b[0m\u001b[0;34m\u001b[0m\u001b[0;34m\u001b[0m\u001b[0m\n\u001b[0m\u001b[1;32m    101\u001b[0m         \u001b[0;32mfinally\u001b[0m\u001b[0;34m:\u001b[0m\u001b[0;34m\u001b[0m\u001b[0;34m\u001b[0m\u001b[0m\n\u001b[1;32m    102\u001b[0m             \u001b[0mself\u001b[0m\u001b[0;34m.\u001b[0m\u001b[0mdisable\u001b[0m\u001b[0;34m(\u001b[0m\u001b[0;34m)\u001b[0m\u001b[0;34m\u001b[0m\u001b[0;34m\u001b[0m\u001b[0m\n",
      "\u001b[0;32m<string>\u001b[0m in \u001b[0;36m<module>\u001b[0;34m\u001b[0m\n",
      "\u001b[0;31mKeyboardInterrupt\u001b[0m: "
     ]
    }
   ],
   "source": [
    "cProfile.run('SSA_jited(x=np.asarray([np.asarray([1000.0,1000.0])]),t=np.asarray([0.0]),a=a_propensity,v=v,t_max=10)')"
   ]
  },
  {
   "cell_type": "code",
   "execution_count": 87,
   "metadata": {},
   "outputs": [
    {
     "name": "stdout",
     "output_type": "stream",
     "text": [
      "         10150165 function calls (9553097 primitive calls) in 23.911 seconds\n",
      "\n",
      "   Ordered by: standard name\n",
      "\n",
      "   ncalls  tottime  percall  cumtime  percall filename:lineno(function)\n",
      "   149267    0.087    0.000    1.043    0.000 <__array_function__ internals>:2(atleast_1d)\n",
      "   149267    0.076    0.000    0.638    0.000 <__array_function__ internals>:2(atleast_2d)\n",
      "   298534    0.170    0.000   11.345    0.000 <__array_function__ internals>:2(concatenate)\n",
      "   149267    0.106    0.000    5.723    0.000 <__array_function__ internals>:2(hstack)\n",
      "   149267    0.096    0.000    1.331    0.000 <__array_function__ internals>:2(sum)\n",
      "   149267    0.086    0.000    8.567    0.000 <__array_function__ internals>:2(vstack)\n",
      "   149267    0.948    0.000    1.403    0.000 <ipython-input-5-474dae19171b>:1(R)\n",
      "   149267    0.087    0.000    1.490    0.000 <ipython-input-6-9e47355c233e>:1(<lambda>)\n",
      "        1    1.699    1.699   23.911   23.911 <ipython-input-72-4eac92b7d2c5>:1(SSA)\n",
      "        1    0.000    0.000   23.911   23.911 <string>:1(<module>)\n",
      "   149268    0.045    0.000    0.456    0.000 _asarray.py:16(asarray)\n",
      "   597068    0.135    0.000    0.384    0.000 _asarray.py:88(asanyarray)\n",
      "   149267    0.027    0.000    0.027    0.000 fromnumeric.py:2087(_sum_dispatcher)\n",
      "   149267    0.195    0.000    1.128    0.000 fromnumeric.py:2092(sum)\n",
      "   149267    0.263    0.000    0.888    0.000 fromnumeric.py:73(_wrapreduction)\n",
      "   149267    0.079    0.000    0.079    0.000 fromnumeric.py:74(<dictcomp>)\n",
      "   298534    0.227    0.000    0.280    0.000 getlimits.py:365(__new__)\n",
      "   298534    0.041    0.000    0.041    0.000 multiarray.py:145(concatenate)\n",
      "   298534    0.190    0.000    0.273    0.000 numerictypes.py:293(issubclass_)\n",
      "   149267    0.172    0.000    0.458    0.000 numerictypes.py:365(issubdtype)\n",
      "   298534    0.098    0.000    0.177    0.000 shape_base.py:209(_arrays_for_stack_dispatcher)\n",
      "   149267    0.019    0.000    0.019    0.000 shape_base.py:21(_atleast_1d_dispatcher)\n",
      "   298534    0.108    0.000    0.286    0.000 shape_base.py:220(_vhstack_dispatcher)\n",
      "   149267    0.174    0.000    8.265    0.000 shape_base.py:224(vstack)\n",
      "   149267    0.301    0.000    0.816    0.000 shape_base.py:25(atleast_1d)\n",
      "   149267    0.238    0.000    5.209    0.000 shape_base.py:286(hstack)\n",
      "   149267    0.018    0.000    0.018    0.000 shape_base.py:79(_atleast_2d_dispatcher)\n",
      "   149267    0.313    0.000    0.489    0.000 shape_base.py:83(atleast_2d)\n",
      "        1    0.000    0.000   23.911   23.911 {built-in method builtins.exec}\n",
      "   298534    0.080    0.000    0.080    0.000 {built-in method builtins.hasattr}\n",
      "   447801    0.080    0.000    0.080    0.000 {built-in method builtins.isinstance}\n",
      "   447801    0.097    0.000    0.097    0.000 {built-in method builtins.issubclass}\n",
      "   298535    0.041    0.000    0.041    0.000 {built-in method builtins.len}\n",
      "        1    0.000    0.000    0.000    0.000 {built-in method numpy.arange}\n",
      "   746336    0.659    0.000    0.659    0.000 {built-in method numpy.array}\n",
      "1044869/447801   11.729    0.000   15.021    0.000 {built-in method numpy.core._multiarray_umath.implement_array_function}\n",
      "   597068    0.064    0.000    0.064    0.000 {method 'append' of 'list' objects}\n",
      "   149267    3.633    0.000    4.371    0.000 {method 'choice' of 'numpy.random.mtrand.RandomState' objects}\n",
      "        1    0.000    0.000    0.000    0.000 {method 'disable' of '_lsprof.Profiler' objects}\n",
      "   149267    0.729    0.000    0.729    0.000 {method 'exponential' of 'numpy.random.mtrand.RandomState' objects}\n",
      "   298534    0.052    0.000    0.052    0.000 {method 'get' of 'dict' objects}\n",
      "   149267    0.021    0.000    0.021    0.000 {method 'items' of 'dict' objects}\n",
      "   149267    0.525    0.000    0.525    0.000 {method 'reduce' of 'numpy.ufunc' objects}\n",
      "   149267    0.202    0.000    0.202    0.000 {method 'reshape' of 'numpy.ndarray' objects}\n",
      "        1    0.000    0.000    0.000    0.000 {method 'seed' of 'numpy.random.mtrand.RandomState' objects}\n",
      "\n",
      "\n"
     ]
    }
   ],
   "source": [
    "cProfile.run('SSA(x=np.asarray([[1000,1000]]),t=[0],a=a,v=v,t_max=10)')"
   ]
  },
  {
   "cell_type": "code",
   "execution_count": 112,
   "metadata": {},
   "outputs": [],
   "source": [
    "@vectorize\n",
    "def expo_v(s): return np.random.exponential(scale=1/s)"
   ]
  },
  {
   "cell_type": "code",
   "execution_count": 113,
   "metadata": {},
   "outputs": [],
   "source": [
    "@njit()\n",
    "def expo_j(s): return np.random.exponential(scale=1/s)"
   ]
  },
  {
   "cell_type": "code",
   "execution_count": 114,
   "metadata": {},
   "outputs": [
    {
     "name": "stdout",
     "output_type": "stream",
     "text": [
      "639 ns ± 34.3 ns per loop (mean ± std. dev. of 7 runs, 1000000 loops each)\n"
     ]
    }
   ],
   "source": [
    "%timeit expo_v(2)"
   ]
  },
  {
   "cell_type": "code",
   "execution_count": 115,
   "metadata": {},
   "outputs": [
    {
     "name": "stdout",
     "output_type": "stream",
     "text": [
      "202 ns ± 19.6 ns per loop (mean ± std. dev. of 7 runs, 1000000 loops each)\n"
     ]
    }
   ],
   "source": [
    "%timeit expo_j(2)"
   ]
  },
  {
   "cell_type": "code",
   "execution_count": 117,
   "metadata": {},
   "outputs": [
    {
     "name": "stdout",
     "output_type": "stream",
     "text": [
      "3.08 µs ± 192 ns per loop (mean ± std. dev. of 7 runs, 100000 loops each)\n"
     ]
    }
   ],
   "source": [
    "%timeit np.random.exponential(scale=1/2)"
   ]
  },
  {
   "cell_type": "code",
   "execution_count": 118,
   "metadata": {},
   "outputs": [],
   "source": [
    "rj = %timeit -qo expo_v(2)"
   ]
  },
  {
   "cell_type": "code",
   "execution_count": 119,
   "metadata": {},
   "outputs": [],
   "source": [
    "r = %timeit -qo expo_j(2)"
   ]
  },
  {
   "cell_type": "code",
   "execution_count": 121,
   "metadata": {},
   "outputs": [
    {
     "data": {
      "text/plain": [
       "True"
      ]
     },
     "execution_count": 121,
     "metadata": {},
     "output_type": "execute_result"
    }
   ],
   "source": [
    "rj.worst>r.worst"
   ]
  },
  {
   "cell_type": "code",
   "execution_count": 123,
   "metadata": {},
   "outputs": [
    {
     "data": {
      "text/plain": [
       "True"
      ]
     },
     "execution_count": 123,
     "metadata": {},
     "output_type": "execute_result"
    }
   ],
   "source": [
    "rj.best>r.best"
   ]
  },
  {
   "cell_type": "code",
   "execution_count": null,
   "metadata": {},
   "outputs": [],
   "source": []
  }
 ],
 "metadata": {
  "kernelspec": {
   "display_name": "Python 3",
   "language": "python",
   "name": "python3"
  },
  "language_info": {
   "codemirror_mode": {
    "name": "ipython",
    "version": 3
   },
   "file_extension": ".py",
   "mimetype": "text/x-python",
   "name": "python",
   "nbconvert_exporter": "python",
   "pygments_lexer": "ipython3",
   "version": "3.7.3"
  }
 },
 "nbformat": 4,
 "nbformat_minor": 4
}
