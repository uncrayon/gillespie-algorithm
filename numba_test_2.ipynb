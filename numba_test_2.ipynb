{
 "cells": [
  {
   "cell_type": "code",
   "execution_count": 1,
   "metadata": {},
   "outputs": [],
   "source": [
    "%load_ext line_profiler\n",
    "#%lprun -f bad_call -f worse_call sumulate(13)"
   ]
  },
  {
   "cell_type": "code",
   "execution_count": 2,
   "metadata": {},
   "outputs": [],
   "source": [
    "from numba import jit, njit, vectorize,config\n",
    "import cProfile"
   ]
  },
  {
   "cell_type": "code",
   "execution_count": 22,
   "metadata": {},
   "outputs": [],
   "source": [
    "import matplotlib.pyplot as plt\n",
    "import seaborn as sbn\n",
    "import pandas as pd\n",
    "import numpy as np\n",
    "import random\n",
    "import math"
   ]
  },
  {
   "cell_type": "code",
   "execution_count": 4,
   "metadata": {},
   "outputs": [],
   "source": [
    "config.THREADING_LAYER = 'threadsafe'\n",
    "sbn.set()"
   ]
  },
  {
   "cell_type": "markdown",
   "metadata": {},
   "source": [
    "# A _While_ Test"
   ]
  },
  {
   "cell_type": "markdown",
   "metadata": {},
   "source": [
    "So, the great problem of our system is that time advance a Poisson process (somthing exponential) and it is time-expensive. A way to solve this problem is to try to optimize first our process"
   ]
  },
  {
   "cell_type": "markdown",
   "metadata": {},
   "source": [
    "First, let us define two random exp functions"
   ]
  },
  {
   "cell_type": "code",
   "execution_count": 6,
   "metadata": {},
   "outputs": [],
   "source": [
    "def random_exp(a0):\n",
    "    r = np.random.random()\n",
    "    #tau = (1/a0)*np.log(1/r)\n",
    "    return (1/a0)*np.log(1/r)"
   ]
  },
  {
   "cell_type": "code",
   "execution_count": 7,
   "metadata": {},
   "outputs": [],
   "source": [
    "def random_exp_np(a0):\n",
    "    return np.random.exponential(1/a0)"
   ]
  },
  {
   "cell_type": "code",
   "execution_count": 10,
   "metadata": {},
   "outputs": [
    {
     "name": "stdout",
     "output_type": "stream",
     "text": [
      "1.15 µs ± 17.7 ns per loop (mean ± std. dev. of 15 runs, 1000000 loops each)\n"
     ]
    }
   ],
   "source": [
    "%timeit -r 15 random_exp(2)"
   ]
  },
  {
   "cell_type": "code",
   "execution_count": 11,
   "metadata": {},
   "outputs": [
    {
     "name": "stdout",
     "output_type": "stream",
     "text": [
      "1.93 µs ± 80.5 ns per loop (mean ± std. dev. of 15 runs, 100000 loops each)\n"
     ]
    }
   ],
   "source": [
    "%timeit -r 15 random_exp_np(2)"
   ]
  },
  {
   "cell_type": "markdown",
   "metadata": {},
   "source": [
    "The times are pretty close but the harcoded implementation got a lower std. dev. which means is more stable and predictable. \n",
    "\n",
    "Now, lets njit the functions"
   ]
  },
  {
   "cell_type": "code",
   "execution_count": 12,
   "metadata": {},
   "outputs": [],
   "source": [
    "random_exp_jitted = njit(random_exp)\n",
    "random_exp_np_jitted = njit(random_exp_np)"
   ]
  },
  {
   "cell_type": "markdown",
   "metadata": {},
   "source": [
    "And to end let us run the timeit test again."
   ]
  },
  {
   "cell_type": "code",
   "execution_count": 15,
   "metadata": {},
   "outputs": [
    {
     "name": "stdout",
     "output_type": "stream",
     "text": [
      "181 ns ± 11.7 ns per loop (mean ± std. dev. of 15 runs, 10000000 loops each)\n"
     ]
    }
   ],
   "source": [
    "direct_method = %timeit -o -r 15 random_exp_jitted(2.0)"
   ]
  },
  {
   "cell_type": "code",
   "execution_count": 16,
   "metadata": {},
   "outputs": [
    {
     "name": "stdout",
     "output_type": "stream",
     "text": [
      "202 ns ± 9.32 ns per loop (mean ± std. dev. of 15 runs, 1000000 loops each)\n"
     ]
    }
   ],
   "source": [
    "numpy_method = %timeit -o -r 15 random_exp_np_jitted(2.0)"
   ]
  },
  {
   "cell_type": "code",
   "execution_count": 20,
   "metadata": {},
   "outputs": [
    {
     "name": "stdout",
     "output_type": "stream",
     "text": [
      "Worst in direct was 2.1e-07 and numpy as 2.2e-07\n"
     ]
    }
   ],
   "source": [
    "print('Worst in direct was {:.2} and numpy as {:.2}'.format(direct_method.worst,numpy_method.worst))"
   ]
  },
  {
   "cell_type": "code",
   "execution_count": 21,
   "metadata": {},
   "outputs": [
    {
     "data": {
      "text/plain": [
       "True"
      ]
     },
     "execution_count": 21,
     "metadata": {},
     "output_type": "execute_result"
    }
   ],
   "source": [
    "direct_method.worst<numpy_method.worst"
   ]
  },
  {
   "cell_type": "markdown",
   "metadata": {},
   "source": [
    "Even in the worst was faster our direct method. "
   ]
  },
  {
   "cell_type": "markdown",
   "metadata": {},
   "source": [
    "Now, let us notice that in our direct method we depend on a numpy medthod: `numpy.log`. Let us now see if our direct method gets faster with `math.log` method"
   ]
  },
  {
   "cell_type": "code",
   "execution_count": 25,
   "metadata": {},
   "outputs": [],
   "source": [
    "def random_exp_numpy(a0):\n",
    "    r = np.random.random()\n",
    "    #tau = (1/a0)*np.log(1/r)\n",
    "    return (1/a0)*np.log(1/r)\n",
    "\n",
    "def random_exp_math(a0):\n",
    "    r = np.random.random()\n",
    "    #tau = (1/a0)*np.log(1/r)\n",
    "    return (1/a0)*math.log(1/r)"
   ]
  },
  {
   "cell_type": "code",
   "execution_count": 30,
   "metadata": {},
   "outputs": [
    {
     "name": "stdout",
     "output_type": "stream",
     "text": [
      "1.29 µs ± 98.8 ns per loop (mean ± std. dev. of 15 runs, 1000000 loops each)\n"
     ]
    }
   ],
   "source": [
    "numpy_log = %timeit -o -r 15 random_exp_numpy(2.0)"
   ]
  },
  {
   "cell_type": "code",
   "execution_count": 31,
   "metadata": {},
   "outputs": [
    {
     "name": "stdout",
     "output_type": "stream",
     "text": [
      "571 ns ± 13.2 ns per loop (mean ± std. dev. of 15 runs, 1000000 loops each)\n"
     ]
    }
   ],
   "source": [
    "math_log = %timeit -o -r 15 random_exp_math(2.0)"
   ]
  },
  {
   "cell_type": "code",
   "execution_count": 32,
   "metadata": {},
   "outputs": [
    {
     "name": "stdout",
     "output_type": "stream",
     "text": [
      "Worst in numpy was 1.4e-06 and math as 6.2e-07\n"
     ]
    }
   ],
   "source": [
    "print('Worst in numpy was {:.2} and math as {:.2}'.format(numpy_log.worst,math_log.worst))"
   ]
  },
  {
   "cell_type": "code",
   "execution_count": 34,
   "metadata": {},
   "outputs": [
    {
     "name": "stdout",
     "output_type": "stream",
     "text": [
      "Is math best in the direct method than numpy? True\n"
     ]
    }
   ],
   "source": [
    "print('Is math best in the direct method than numpy? {}'.format(numpy_log.worst>math_log.worst) )"
   ]
  },
  {
   "cell_type": "markdown",
   "metadata": {},
   "source": [
    "Now let us njit our functions"
   ]
  },
  {
   "cell_type": "code",
   "execution_count": 36,
   "metadata": {},
   "outputs": [],
   "source": [
    "random_exp_numpy_jitted = njit(random_exp_numpy)\n",
    "random_exp_math_jitted = njit(random_exp_math)"
   ]
  },
  {
   "cell_type": "code",
   "execution_count": 37,
   "metadata": {},
   "outputs": [
    {
     "name": "stdout",
     "output_type": "stream",
     "text": [
      "176 ns ± 3 ns per loop (mean ± std. dev. of 15 runs, 10000000 loops each)\n"
     ]
    }
   ],
   "source": [
    "numpy_log_jitted = %timeit -o -r 15 random_exp_numpy_jitted(2.0)"
   ]
  },
  {
   "cell_type": "code",
   "execution_count": 38,
   "metadata": {},
   "outputs": [
    {
     "name": "stdout",
     "output_type": "stream",
     "text": [
      "195 ns ± 4.35 ns per loop (mean ± std. dev. of 15 runs, 10000000 loops each)\n"
     ]
    }
   ],
   "source": [
    "math_log_jitted = %timeit -o -r 15 random_exp_math_jitted(2.0)"
   ]
  },
  {
   "cell_type": "code",
   "execution_count": 40,
   "metadata": {},
   "outputs": [
    {
     "name": "stdout",
     "output_type": "stream",
     "text": [
      "Worst in numpy jitted was 1.8e-07 and math jitted as 2e-07\n"
     ]
    }
   ],
   "source": [
    "print('Worst in numpy jitted was {:.2} and math jitted as {:.2}'.format(numpy_log_jitted.worst,math_log_jitted.worst))"
   ]
  },
  {
   "cell_type": "code",
   "execution_count": 42,
   "metadata": {},
   "outputs": [
    {
     "name": "stdout",
     "output_type": "stream",
     "text": [
      "Remains math best in the direct method than numpy once jitted? False\n"
     ]
    }
   ],
   "source": [
    "print('Remains math best in the direct method than numpy once jitted? {}'.format(numpy_log_jitted.worst>math_log_jitted.worst) )"
   ]
  },
  {
   "cell_type": "code",
   "execution_count": 46,
   "metadata": {},
   "outputs": [
    {
     "data": {
      "text/plain": [
       "True"
      ]
     },
     "execution_count": 46,
     "metadata": {},
     "output_type": "execute_result"
    }
   ],
   "source": [
    "numpy_log_jitted.worst<math_log_jitted.worst"
   ]
  },
  {
   "cell_type": "code",
   "execution_count": 45,
   "metadata": {},
   "outputs": [
    {
     "data": {
      "text/plain": [
       "True"
      ]
     },
     "execution_count": 45,
     "metadata": {},
     "output_type": "execute_result"
    }
   ],
   "source": [
    "numpy_log_jitted.best<math_log_jitted.best"
   ]
  },
  {
   "cell_type": "code",
   "execution_count": 47,
   "metadata": {},
   "outputs": [
    {
     "data": {
      "text/plain": [
       "True"
      ]
     },
     "execution_count": 47,
     "metadata": {},
     "output_type": "execute_result"
    }
   ],
   "source": [
    "numpy_log_jitted.average<math_log_jitted.average"
   ]
  },
  {
   "cell_type": "markdown",
   "metadata": {},
   "source": [
    "Then the direct method is faster with njit method. "
   ]
  },
  {
   "cell_type": "markdown",
   "metadata": {},
   "source": [
    "Now lets do a pair of while loops:"
   ]
  },
  {
   "cell_type": "code",
   "execution_count": 48,
   "metadata": {},
   "outputs": [],
   "source": [
    "@njit\n",
    "def random_exp_numpy(a0):\n",
    "    \"\"\"\n",
    "    This functions generates a exponential random \n",
    "    variable with mean and std. dev. 1/a0\n",
    "    \"\"\"\n",
    "    r = np.random.random()\n",
    "    return (1/a0)*np.log(1/r)"
   ]
  },
  {
   "cell_type": "code",
   "execution_count": 65,
   "metadata": {},
   "outputs": [],
   "source": [
    "def Loop_1(t0=0.0,t_max=10.0,a0=2.0):\n",
    "    while t0<t_max:\n",
    "        t0 += random_exp_numpy(a0)\n",
    "        \n",
    "def Loop_2(t0=0.0,t_max=10.0,a0=2.0):\n",
    "    while True:\n",
    "        if t_max<t0:\n",
    "            break\n",
    "        t0 += random_exp_numpy(a0)"
   ]
  },
  {
   "cell_type": "code",
   "execution_count": 66,
   "metadata": {},
   "outputs": [
    {
     "name": "stdout",
     "output_type": "stream",
     "text": [
      "4.07 µs ± 67.6 ns per loop (mean ± std. dev. of 15 runs, 100000 loops each)\n"
     ]
    }
   ],
   "source": [
    "%timeit -r 15 Loop_1()"
   ]
  },
  {
   "cell_type": "code",
   "execution_count": 67,
   "metadata": {},
   "outputs": [
    {
     "name": "stdout",
     "output_type": "stream",
     "text": [
      "4.12 µs ± 68.8 ns per loop (mean ± std. dev. of 15 runs, 100000 loops each)\n"
     ]
    }
   ],
   "source": [
    "%timeit -r 15 Loop_2()"
   ]
  },
  {
   "cell_type": "markdown",
   "metadata": {},
   "source": [
    "Now, let us consider a greater time, like `t_max = 100`."
   ]
  },
  {
   "cell_type": "code",
   "execution_count": 68,
   "metadata": {},
   "outputs": [
    {
     "name": "stdout",
     "output_type": "stream",
     "text": [
      "39.2 µs ± 2.97 µs per loop (mean ± std. dev. of 15 runs, 10000 loops each)\n"
     ]
    }
   ],
   "source": [
    "%timeit -r 15 Loop_1(t_max=100.0)"
   ]
  },
  {
   "cell_type": "code",
   "execution_count": 69,
   "metadata": {},
   "outputs": [
    {
     "name": "stdout",
     "output_type": "stream",
     "text": [
      "40.1 µs ± 2.39 µs per loop (mean ± std. dev. of 15 runs, 10000 loops each)\n"
     ]
    }
   ],
   "source": [
    "%timeit -r 15 Loop_2(t_max=100.0)"
   ]
  },
  {
   "cell_type": "markdown",
   "metadata": {},
   "source": [
    "Keeping the function with stop condition on `while` gets best performance. Now, let us try to profiling the functions"
   ]
  },
  {
   "cell_type": "code",
   "execution_count": 70,
   "metadata": {},
   "outputs": [
    {
     "data": {
      "text/plain": [
       "Timer unit: 1e-06 s\n",
       "\n",
       "Total time: 0.000234 s\n",
       "File: <ipython-input-65-5006a524d3c1>\n",
       "Function: Loop_1 at line 1\n",
       "\n",
       "Line #      Hits         Time  Per Hit   % Time  Line Contents\n",
       "==============================================================\n",
       "     1                                           def Loop_1(t0=0.0,t_max=10.0,a0=2.0):\n",
       "     2       187         77.0      0.4     32.9      while t0<t_max:\n",
       "     3       186        157.0      0.8     67.1          t0 += random_exp_numpy(a0)"
      ]
     },
     "metadata": {},
     "output_type": "display_data"
    }
   ],
   "source": [
    "%lprun -f Loop_1 Loop_1(t_max=100.0)"
   ]
  },
  {
   "cell_type": "code",
   "execution_count": 71,
   "metadata": {},
   "outputs": [
    {
     "data": {
      "text/plain": [
       "Timer unit: 1e-06 s\n",
       "\n",
       "Total time: 0.000265 s\n",
       "File: <ipython-input-65-5006a524d3c1>\n",
       "Function: Loop_2 at line 5\n",
       "\n",
       "Line #      Hits         Time  Per Hit   % Time  Line Contents\n",
       "==============================================================\n",
       "     5                                           def Loop_2(t0=0.0,t_max=10.0,a0=2.0):\n",
       "     6         1          1.0      1.0      0.4      while True:\n",
       "     7       220         85.0      0.4     32.1          if t_max<t0:\n",
       "     8         1          1.0      1.0      0.4              break\n",
       "     9       219        178.0      0.8     67.2          t0 += random_exp_numpy(a0)"
      ]
     },
     "metadata": {},
     "output_type": "display_data"
    }
   ],
   "source": [
    "%lprun -f Loop_2 Loop_2(t_max=100.0)"
   ]
  },
  {
   "cell_type": "markdown",
   "metadata": {},
   "source": [
    "Keeping the condition on `while` give is a best performance cause we stop without executing an external `break`, thats why we save time. "
   ]
  },
  {
   "cell_type": "markdown",
   "metadata": {},
   "source": [
    "Now, let us see if there is performance _njiting_ the functions."
   ]
  },
  {
   "cell_type": "code",
   "execution_count": 72,
   "metadata": {},
   "outputs": [],
   "source": [
    "Loop_1_jitted = njit(Loop_1)\n",
    "Loop_2_jitted = njit(Loop_2)"
   ]
  },
  {
   "cell_type": "code",
   "execution_count": 73,
   "metadata": {},
   "outputs": [
    {
     "name": "stdout",
     "output_type": "stream",
     "text": [
      "21.6 µs ± 538 ns per loop (mean ± std. dev. of 15 runs, 10000 loops each)\n"
     ]
    }
   ],
   "source": [
    "%timeit -r 15 Loop_1_jitted(t_max=100.0)"
   ]
  },
  {
   "cell_type": "code",
   "execution_count": 74,
   "metadata": {},
   "outputs": [
    {
     "name": "stdout",
     "output_type": "stream",
     "text": [
      "22 µs ± 600 ns per loop (mean ± std. dev. of 15 runs, 10000 loops each)\n"
     ]
    }
   ],
   "source": [
    "%timeit -r 15 Loop_2_jitted(t_max=100.0)"
   ]
  },
  {
   "cell_type": "markdown",
   "metadata": {},
   "source": [
    "It improved for almost a factor of 2x! (~1.8x)"
   ]
  }
 ],
 "metadata": {
  "kernelspec": {
   "display_name": "Python 3",
   "language": "python",
   "name": "python3"
  },
  "language_info": {
   "codemirror_mode": {
    "name": "ipython",
    "version": 3
   },
   "file_extension": ".py",
   "mimetype": "text/x-python",
   "name": "python",
   "nbconvert_exporter": "python",
   "pygments_lexer": "ipython3",
   "version": "3.7.3"
  }
 },
 "nbformat": 4,
 "nbformat_minor": 4
}
